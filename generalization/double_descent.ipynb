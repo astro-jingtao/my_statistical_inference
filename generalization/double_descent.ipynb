{
 "cells": [
  {
   "cell_type": "code",
   "execution_count": null,
   "metadata": {},
   "outputs": [],
   "source": [
    "import numpy as np\n",
    "import matplotlib.pyplot as plt\n",
    "\n",
    "from sklearn.linear_model import LinearRegression\n",
    "from sklearn.metrics import mean_squared_error\n",
    "from sklearn.model_selection import train_test_split"
   ]
  },
  {
   "cell_type": "code",
   "execution_count": 2,
   "metadata": {},
   "outputs": [],
   "source": [
    "N = 100\n",
    "\n",
    "x1 = np.random.normal(0, 1, N)\n",
    "x2 = np.random.normal(0, 1, N)\n",
    "x3 = np.random.normal(0, 1, N)\n",
    "\n",
    "X = np.c_[x1, x2, x3]\n",
    "y = 1 / 2 * x1 + 3 / 4 * x2 + 1 * x3 + np.random.normal(0, 0.5, N)"
   ]
  },
  {
   "cell_type": "code",
   "execution_count": 3,
   "metadata": {},
   "outputs": [],
   "source": [
    "def train_test_split_add_noise(X, y, N=1):\n",
    "    X_add = np.c_[X,\n",
    "                  y[:, None] + np.random.normal(0, 0.5, size=(X.shape[0], N))]\n",
    "    return train_test_split(X_add, y, test_size=0.9)"
   ]
  },
  {
   "cell_type": "code",
   "execution_count": 4,
   "metadata": {},
   "outputs": [],
   "source": [
    "X_train, X_test, y_train, y_test = train_test_split(X,\n",
    "                                                    y,\n",
    "                                                    test_size=0.9,\n",
    "                                                    random_state=42)"
   ]
  },
  {
   "cell_type": "code",
   "execution_count": 20,
   "metadata": {},
   "outputs": [],
   "source": [
    "N_lst = np.arange(15)\n",
    "mse_lst = []\n",
    "\n",
    "K = 100\n",
    "\n",
    "for N in N_lst:\n",
    "\n",
    "    this_mse_lst = []\n",
    "    for _ in range(K):\n",
    "        X_train, X_test, y_train, y_test = train_test_split_add_noise(X,\n",
    "                                                                      y,\n",
    "                                                                      N=N)\n",
    "        this_mse_lst.append(\n",
    "            mean_squared_error(\n",
    "                y_test,\n",
    "                LinearRegression().fit(X_train, y_train).predict(X_test)))\n",
    "    mse_lst.append(np.median(this_mse_lst))"
   ]
  },
  {
   "cell_type": "code",
   "execution_count": 21,
   "metadata": {},
   "outputs": [
    {
     "data": {
      "text/plain": [
       "(0.0, 1.0)"
      ]
     },
     "execution_count": 21,
     "metadata": {},
     "output_type": "execute_result"
    },
    {
     "data": {
      "image/png": "[encoded data removed]",
      "text/plain": [
       "<Figure size 640x480 with 1 Axes>"
      ]
     },
     "metadata": {},
     "output_type": "display_data"
    }
   ],
   "source": [
    "plt.plot(N_lst, mse_lst, '-o')\n",
    "plt.ylim(0, 1)"
   ]
  }
 ],
 "metadata": {
  "kernelspec": {
   "display_name": "science",
   "language": "python",
   "name": "python3"
  },
  "language_info": {
   "codemirror_mode": {
    "name": "ipython",
    "version": 3
   },
   "file_extension": ".py",
   "mimetype": "text/x-python",
   "name": "python",
   "nbconvert_exporter": "python",
   "pygments_lexer": "ipython3",
   "version": "3.9.18"
  }
 },
 "nbformat": 4,
 "nbformat_minor": 2
}
